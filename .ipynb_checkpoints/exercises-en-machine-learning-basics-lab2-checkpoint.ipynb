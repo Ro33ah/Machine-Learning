{
 "cells": [
  {
   "cell_type": "markdown",
   "metadata": {
    "slideshow": {
     "slide_type": "slide"
    }
   },
   "source": [
    "# Lab Class ML: I,II\n",
    "\n",
    "### Today's Agenda\n",
    "\n",
    "\n",
    "4. Tutorial: Python libraries for data analysis\n",
    "1. Exercises ML:I, II -- solutions\n",
    "3. Regression for classification problems\n",
    "2. Exercises ML:II"
   ]
  },
  {
   "cell_type": "code",
   "execution_count": 3,
   "metadata": {
    "slideshow": {
     "slide_type": "skip"
    }
   },
   "outputs": [
    {
     "name": "stdout",
     "output_type": "stream",
     "text": [
      "Couldn't find program: 'bash'\n"
     ]
    }
   ],
   "source": [
    "%%bash\n",
    "\n",
    "### Uncomment next line to convert to slides:\n",
    "jupyter nbconvert --to=slides --reveal-prefix='https://cdnjs.cloudflare.com/ajax/libs/reveal.js/3.1.0' ./exercises-en-machine-learning-basics-lab2.ipynb"
   ]
  },
  {
   "cell_type": "code",
   "execution_count": 4,
   "metadata": {
    "collapsed": true,
    "slideshow": {
     "slide_type": "skip"
    }
   },
   "outputs": [
    {
     "ename": "ModuleNotFoundError",
     "evalue": "No module named 'numpy'",
     "output_type": "error",
     "traceback": [
      "\u001b[1;31m---------------------------------------------------------------------------\u001b[0m",
      "\u001b[1;31mModuleNotFoundError\u001b[0m                       Traceback (most recent call last)",
      "\u001b[1;32m<ipython-input-4-6f2587c2bc93>\u001b[0m in \u001b[0;36m<module>\u001b[1;34m\u001b[0m\n\u001b[1;32m----> 1\u001b[1;33m \u001b[1;32mimport\u001b[0m \u001b[0mnumpy\u001b[0m \u001b[1;32mas\u001b[0m \u001b[0mnp\u001b[0m\u001b[1;33m\u001b[0m\u001b[1;33m\u001b[0m\u001b[0m\n\u001b[0m\u001b[0;32m      2\u001b[0m \u001b[1;32mimport\u001b[0m \u001b[0mmatplotlib\u001b[0m\u001b[1;33m.\u001b[0m\u001b[0mpyplot\u001b[0m \u001b[1;32mas\u001b[0m \u001b[0mplt\u001b[0m\u001b[1;33m\u001b[0m\u001b[1;33m\u001b[0m\u001b[0m\n\u001b[0;32m      3\u001b[0m \u001b[1;32mimport\u001b[0m \u001b[0mseaborn\u001b[0m \u001b[1;32mas\u001b[0m \u001b[0msb\u001b[0m\u001b[1;33m\u001b[0m\u001b[1;33m\u001b[0m\u001b[0m\n\u001b[0;32m      4\u001b[0m \u001b[0mget_ipython\u001b[0m\u001b[1;33m(\u001b[0m\u001b[1;33m)\u001b[0m\u001b[1;33m.\u001b[0m\u001b[0mrun_line_magic\u001b[0m\u001b[1;33m(\u001b[0m\u001b[1;34m'matplotlib'\u001b[0m\u001b[1;33m,\u001b[0m \u001b[1;34m'inline'\u001b[0m\u001b[1;33m)\u001b[0m\u001b[1;33m\u001b[0m\u001b[1;33m\u001b[0m\u001b[0m\n\u001b[0;32m      5\u001b[0m \u001b[0msb\u001b[0m\u001b[1;33m.\u001b[0m\u001b[0mset\u001b[0m\u001b[1;33m(\u001b[0m\u001b[0mstyle\u001b[0m\u001b[1;33m=\u001b[0m\u001b[1;34m\"whitegrid\"\u001b[0m\u001b[1;33m,\u001b[0m \u001b[0mpalette\u001b[0m\u001b[1;33m=\u001b[0m\u001b[1;34m\"muted\"\u001b[0m\u001b[1;33m,\u001b[0m \u001b[0mcolor_codes\u001b[0m\u001b[1;33m=\u001b[0m\u001b[1;32mTrue\u001b[0m\u001b[1;33m)\u001b[0m\u001b[1;33m\u001b[0m\u001b[1;33m\u001b[0m\u001b[0m\n",
      "\u001b[1;31mModuleNotFoundError\u001b[0m: No module named 'numpy'"
     ]
    }
   ],
   "source": [
    "import numpy as np\n",
    "import matplotlib.pyplot as plt\n",
    "import seaborn as sb\n",
    "%matplotlib inline\n",
    "sb.set(style=\"whitegrid\", palette=\"muted\", color_codes=True)\n",
    "\n",
    "import warnings\n",
    "warnings.filterwarnings('ignore')"
   ]
  },
  {
   "cell_type": "markdown",
   "metadata": {
    "slideshow": {
     "slide_type": "slide"
    }
   },
   "source": [
    "# Exercises ML: I, II\n",
    "\n",
    "Solutions to the [previous exercise sheet](https://www.uni-weimar.de/fileadmin/user/fak/medien/professuren/Webis/teaching/ws18/machine-learning/exercises-en-machine-learning-basics-part1.pdf)."
   ]
  },
  {
   "cell_type": "markdown",
   "metadata": {
    "slideshow": {
     "slide_type": "slide"
    }
   },
   "source": [
    "# Exercise 1: Learning Paradigms"
   ]
  },
  {
   "cell_type": "code",
   "execution_count": 5,
   "metadata": {
    "collapsed": true,
    "slideshow": {
     "slide_type": "skip"
    }
   },
   "outputs": [],
   "source": [
    "from IPython.display import YouTubeVideo"
   ]
  },
  {
   "cell_type": "markdown",
   "metadata": {
    "slideshow": {
     "slide_type": "fragment"
    }
   },
   "source": [
    "### Reinforcement Learning Example"
   ]
  },
  {
   "cell_type": "code",
   "execution_count": 6,
   "metadata": {
    "slideshow": {
     "slide_type": "-"
    }
   },
   "outputs": [
    {
     "data": {
      "text/html": [
       "\n",
       "        <iframe\n",
       "            width=\"400\"\n",
       "            height=\"300\"\n",
       "            src=\"https://www.youtube.com/embed/RZf8fR1SmNY\"\n",
       "            frameborder=\"0\"\n",
       "            allowfullscreen\n",
       "        ></iframe>\n",
       "        "
      ],
      "text/plain": [
       "\n",
       "        <iframe\n",
       "            width=\"400\"\n",
       "            height=\"300\"\n",
       "            src=\"https://www.youtube.com/embed/RZf8fR1SmNY\"\n",
       "            frameborder=\"0\"\n",
       "            allowfullscreen\n",
       "        ></iframe>\n",
       "        "
      ]
     },
     "execution_count": 6,
     "metadata": {},
     "output_type": "execute_result"
    }
   ],
   "source": [
    "YouTubeVideo(\"RZf8fR1SmNY\")"
   ]
  },
  {
   "cell_type": "markdown",
   "metadata": {
    "slideshow": {
     "slide_type": "slide"
    }
   },
   "source": [
    "# Exercise 2: Machine Learning (general)"
   ]
  },
  {
   "cell_type": "markdown",
   "metadata": {
    "slideshow": {
     "slide_type": "subslide"
    }
   },
   "source": [
    "## (b) Inductive and deductive learning"
   ]
  },
  {
   "cell_type": "markdown",
   "metadata": {
    "slideshow": {
     "slide_type": "fragment"
    }
   },
   "source": [
    "Inductive: Observation -> Conclusion\n",
    "\n",
    "Deductive: Conclusion -> Obersvation"
   ]
  },
  {
   "cell_type": "markdown",
   "metadata": {
    "slideshow": {
     "slide_type": "fragment"
    }
   },
   "source": [
    "Playing Chess:\n",
    "- show winning/losing records, learn how to win -> inductive\n",
    "- show how to play chess, the definition of win, find how to win -> deductive\n",
    "    "
   ]
  },
  {
   "cell_type": "markdown",
   "metadata": {
    "slideshow": {
     "slide_type": "slide"
    }
   },
   "source": [
    "# Exercise 3: Linear Regression"
   ]
  },
  {
   "cell_type": "code",
   "execution_count": 4,
   "metadata": {
    "collapsed": true,
    "slideshow": {
     "slide_type": "skip"
    }
   },
   "outputs": [],
   "source": [
    "import pandas as pd"
   ]
  },
  {
   "cell_type": "code",
   "execution_count": 5,
   "metadata": {
    "collapsed": true,
    "slideshow": {
     "slide_type": "skip"
    }
   },
   "outputs": [],
   "source": [
    "from io import StringIO\n",
    "tab = r\"\"\"Car & Wartburg & Moskvich & Lada & Trabi\n",
    "age & 5 & 7 & 15 & 28\n",
    "km & 30\\,530 & 90\\,000 & 159\\,899 & 270\\,564\n",
    "stopdist & 50 & 79 & 124 & 300\"\"\"\n",
    "tab = tab.replace(' & ', '\\t').replace(r'\\,', '')\n",
    "cars = pd.read_table(StringIO(tab), index_col=0)\n"
   ]
  },
  {
   "cell_type": "code",
   "execution_count": 6,
   "metadata": {
    "slideshow": {
     "slide_type": "fragment"
    }
   },
   "outputs": [
    {
     "data": {
      "text/html": [
       "<div>\n",
       "<table border=\"1\" class=\"dataframe\">\n",
       "  <thead>\n",
       "    <tr style=\"text-align: right;\">\n",
       "      <th></th>\n",
       "      <th>Wartburg</th>\n",
       "      <th>Moskvich</th>\n",
       "      <th>Lada</th>\n",
       "      <th>Trabi</th>\n",
       "    </tr>\n",
       "    <tr>\n",
       "      <th>Car</th>\n",
       "      <th></th>\n",
       "      <th></th>\n",
       "      <th></th>\n",
       "      <th></th>\n",
       "    </tr>\n",
       "  </thead>\n",
       "  <tbody>\n",
       "    <tr>\n",
       "      <th>age</th>\n",
       "      <td>5</td>\n",
       "      <td>7</td>\n",
       "      <td>15</td>\n",
       "      <td>28</td>\n",
       "    </tr>\n",
       "    <tr>\n",
       "      <th>km</th>\n",
       "      <td>30530</td>\n",
       "      <td>90000</td>\n",
       "      <td>159899</td>\n",
       "      <td>270564</td>\n",
       "    </tr>\n",
       "    <tr>\n",
       "      <th>stopdist</th>\n",
       "      <td>50</td>\n",
       "      <td>79</td>\n",
       "      <td>124</td>\n",
       "      <td>300</td>\n",
       "    </tr>\n",
       "  </tbody>\n",
       "</table>\n",
       "</div>"
      ],
      "text/plain": [
       "          Wartburg  Moskvich    Lada   Trabi\n",
       "Car                                         \n",
       "age              5         7      15      28\n",
       "km           30530     90000  159899  270564\n",
       "stopdist        50        79     124     300"
      ]
     },
     "execution_count": 6,
     "metadata": {},
     "output_type": "execute_result"
    }
   ],
   "source": [
    "cars"
   ]
  },
  {
   "cell_type": "code",
   "execution_count": 7,
   "metadata": {
    "slideshow": {
     "slide_type": "skip"
    }
   },
   "outputs": [
    {
     "data": {
      "text/html": [
       "<div>\n",
       "<table border=\"1\" class=\"dataframe\">\n",
       "  <thead>\n",
       "    <tr style=\"text-align: right;\">\n",
       "      <th>Car</th>\n",
       "      <th>age</th>\n",
       "      <th>km</th>\n",
       "      <th>stopdist</th>\n",
       "    </tr>\n",
       "  </thead>\n",
       "  <tbody>\n",
       "    <tr>\n",
       "      <th>Wartburg</th>\n",
       "      <td>5</td>\n",
       "      <td>30530</td>\n",
       "      <td>50</td>\n",
       "    </tr>\n",
       "    <tr>\n",
       "      <th>Moskvich</th>\n",
       "      <td>7</td>\n",
       "      <td>90000</td>\n",
       "      <td>79</td>\n",
       "    </tr>\n",
       "    <tr>\n",
       "      <th>Lada</th>\n",
       "      <td>15</td>\n",
       "      <td>159899</td>\n",
       "      <td>124</td>\n",
       "    </tr>\n",
       "    <tr>\n",
       "      <th>Trabi</th>\n",
       "      <td>28</td>\n",
       "      <td>270564</td>\n",
       "      <td>300</td>\n",
       "    </tr>\n",
       "  </tbody>\n",
       "</table>\n",
       "</div>"
      ],
      "text/plain": [
       "Car       age      km  stopdist\n",
       "Wartburg    5   30530        50\n",
       "Moskvich    7   90000        79\n",
       "Lada       15  159899       124\n",
       "Trabi      28  270564       300"
      ]
     },
     "execution_count": 7,
     "metadata": {},
     "output_type": "execute_result"
    }
   ],
   "source": [
    "cars = cars.T\n",
    "cars"
   ]
  },
  {
   "cell_type": "code",
   "execution_count": 8,
   "metadata": {
    "collapsed": true,
    "slideshow": {
     "slide_type": "skip"
    }
   },
   "outputs": [],
   "source": [
    "x = cars.age.values[:, np.newaxis]\n",
    "x = np.hstack([np.ones_like(x), x])\n",
    "y = cars.stopdist.values[:, np.newaxis]"
   ]
  },
  {
   "cell_type": "markdown",
   "metadata": {
    "slideshow": {
     "slide_type": "subslide"
    }
   },
   "source": [
    "## (a) Determine the weights"
   ]
  },
  {
   "cell_type": "code",
   "execution_count": 9,
   "metadata": {},
   "outputs": [
    {
     "name": "stdout",
     "output_type": "stream",
     "text": [
      "x =\n",
      " [[ 1  5]\n",
      " [ 1  7]\n",
      " [ 1 15]\n",
      " [ 1 28]] \n",
      "y =\n",
      " [[ 50]\n",
      " [ 79]\n",
      " [124]\n",
      " [300]]\n"
     ]
    }
   ],
   "source": [
    "print(\"x =\\n\", x, \"\\ny =\\n\", y)"
   ]
  },
  {
   "cell_type": "markdown",
   "metadata": {
    "slideshow": {
     "slide_type": "subslide"
    }
   },
   "source": [
    "##### Normal Equations:\n",
    "\n",
    "$$\\hat{w} = (X^TX)^{-1}X^Ty$$"
   ]
  },
  {
   "cell_type": "code",
   "execution_count": 10,
   "metadata": {},
   "outputs": [
    {
     "data": {
      "text/plain": [
       "array([[ -7.32],\n",
       "       [ 10.59]])"
      ]
     },
     "execution_count": 10,
     "metadata": {},
     "output_type": "execute_result"
    }
   ],
   "source": [
    "w = np.linalg.inv(x.T.dot(x)).dot(x.T).dot(y)\n",
    "w.round(2)"
   ]
  },
  {
   "cell_type": "markdown",
   "metadata": {
    "slideshow": {
     "slide_type": "subslide"
    }
   },
   "source": [
    "## (b) Extrapolate stopping distance for `age=15`\n",
    "\n",
    "$$\\begin{align}\n",
    "\\mathrm{h}(15) &= \\hat{w}^T\\cdot \\begin{bmatrix}1\\\\15\\\\\\end{bmatrix}\\\\\n",
    "&= w_0 + w_1\\cdot15 = -7.32 + 10.59 \\cdot 15\\\\\n",
    "&= 151.48\n",
    "\\end{align}$$"
   ]
  },
  {
   "cell_type": "code",
   "execution_count": 11,
   "metadata": {},
   "outputs": [
    {
     "data": {
      "text/plain": [
       "array([ 151.48])"
      ]
     },
     "execution_count": 11,
     "metadata": {},
     "output_type": "execute_result"
    }
   ],
   "source": [
    "w.T.dot([1, 15]).round(2)"
   ]
  },
  {
   "cell_type": "code",
   "execution_count": 12,
   "metadata": {},
   "outputs": [
    {
     "data": {
      "text/plain": [
       "124"
      ]
     },
     "execution_count": 12,
     "metadata": {},
     "output_type": "execute_result"
    }
   ],
   "source": [
    "cars.ix['Lada'].stopdist"
   ]
  },
  {
   "cell_type": "markdown",
   "metadata": {
    "slideshow": {
     "slide_type": "subslide"
    }
   },
   "source": [
    "## (c) Regression using both age and mileage"
   ]
  },
  {
   "cell_type": "code",
   "execution_count": 13,
   "metadata": {},
   "outputs": [
    {
     "name": "stdout",
     "output_type": "stream",
     "text": [
      "w= [[ -6.426]\n",
      " [ 12.816]\n",
      " [ -0.   ]]\n",
      "\n",
      "h(15)= [ 149.2]\n"
     ]
    }
   ],
   "source": [
    "x = cars[['age', 'km']].values\n",
    "x = np.hstack([np.ones_like(x[:,0:1]), x])\n",
    "y = cars.stopdist.values[:, np.newaxis]\n",
    "\n",
    "w = np.linalg.inv(x.T.dot(x)).dot(x.T).dot(y)  ## Normal equations\n",
    "\n",
    "print('w=', w.round(3))\n",
    "print()\n",
    "print('h(15)=', w.T.dot([1, 15, 159899]).round(2))"
   ]
  },
  {
   "cell_type": "markdown",
   "metadata": {
    "slideshow": {
     "slide_type": "subslide"
    }
   },
   "source": [
    "## (d) Scatter plot with regression line"
   ]
  },
  {
   "cell_type": "code",
   "execution_count": 14,
   "metadata": {},
   "outputs": [
    {
     "data": {
      "image/png": "[encoded data removed]",
      "text/plain": [
       "<matplotlib.figure.Figure at 0x7f1fdf3c9c50>"
      ]
     },
     "metadata": {},
     "output_type": "display_data"
    }
   ],
   "source": [
    "x = cars.age.values[:, np.newaxis]\n",
    "x = np.hstack([np.ones_like(x), x])\n",
    "y = cars.stopdist.values[:, np.newaxis]\n",
    "w = np.linalg.inv(x.T.dot(x)).dot(x.T).dot(y)  ## Normal equations again\n",
    "cars.plot('age', 'stopdist', kind='scatter')\n",
    "plt.plot([0, 30], [w[0], w.T.dot([1, 30])], c='r');"
   ]
  },
  {
   "cell_type": "code",
   "execution_count": 15,
   "metadata": {
    "collapsed": true,
    "slideshow": {
     "slide_type": "skip"
    }
   },
   "outputs": [],
   "source": [
    "def rss(examples, w):\n",
    "    \"\"\"Compute the residual sum of squares for a linear model.\n",
    "       \n",
    "       Arguments:\n",
    "       examples -- (n, p + 1)-matrix of predictors and response\n",
    "       w        -- p-vector of linear model weights\n",
    "    \"\"\"\n",
    "    x = examples[:,:-1]    ### First p columns: shape = (n, p)\n",
    "    y = examples.T[-1]     ### Last column: shape = (n,)\n",
    "    y_pred = w.dot(x.T)\n",
    "    rss = (y - y_pred)**2\n",
    "    ### Note: w.dot(x) has shape = (n,)\n",
    "    return rss.sum()\n",
    "\n",
    "def lms(examples, eta, iterations, print_every=1000):\n",
    "    np.random.seed(2)\n",
    "    rows, columns = examples.shape\n",
    "    p = columns - 1 ### last column is the response variable\n",
    "    w = np.random.uniform(low=-1.0, high=1.0, size=p)\n",
    "    \n",
    "    for iteration in range(iterations):\n",
    "        rand = np.random.randint(0, rows)  ### select random index\n",
    "        x = examples[rand,:-1]   ### Everythingà but the last column\n",
    "        c = examples[rand,-1:]   ### The last column\n",
    "        \n",
    "        y = w.dot(x)\n",
    "        error = c - y            ### Error in the single chosen example\n",
    "        w += (eta * error * x) \n",
    "        \n",
    "        if iteration % print_every == 0:\n",
    "            print(\"Iteration: {} RSS: {:.2f}\".format(iteration, \n",
    "                                                     rss(examples, w)))\n",
    "    return w"
   ]
  },
  {
   "cell_type": "code",
   "execution_count": 16,
   "metadata": {
    "collapsed": true,
    "slideshow": {
     "slide_type": "skip"
    }
   },
   "outputs": [],
   "source": [
    "def optimal_weights(examples):\n",
    "    \"\"\"Compute the optimal weight vector using normal equations.\"\"\"\n",
    "    x = examples[:,:-1]\n",
    "    y = examples[:,-1:]\n",
    "    return np.linalg.pinv(x.T.dot(x)).dot(x.T).dot(y).T[0]"
   ]
  },
  {
   "cell_type": "code",
   "execution_count": 17,
   "metadata": {
    "collapsed": true,
    "slideshow": {
     "slide_type": "skip"
    }
   },
   "outputs": [],
   "source": [
    "def classification_error(examples, weights):\n",
    "    x = examples[:,:-1]    ### First p columns: shape = (n, p)\n",
    "    y = examples.T[-1]     ### Last column: shape = (n,)\n",
    "    y_pred = weights.dot(x.T)\n",
    "    error = y != y_pred\n",
    "    print(error)\n",
    "    return sum(error)/len(error)"
   ]
  },
  {
   "cell_type": "markdown",
   "metadata": {
    "slideshow": {
     "slide_type": "subslide"
    }
   },
   "source": [
    "## (e) Problems and pitfalls of extrapolation"
   ]
  },
  {
   "cell_type": "markdown",
   "metadata": {
    "slideshow": {
     "slide_type": "slide"
    }
   },
   "source": [
    "# Exercise 4: The Iris Dataset"
   ]
  },
  {
   "cell_type": "markdown",
   "metadata": {
    "slideshow": {
     "slide_type": "subslide"
    }
   },
   "source": [
    "## Loading the data"
   ]
  },
  {
   "cell_type": "code",
   "execution_count": 18,
   "metadata": {},
   "outputs": [
    {
     "name": "stdout",
     "output_type": "stream",
     "text": [
      "b'Type\\tPW\\tPL\\tSW\\tSL\\r\\n0\\t2\\t14\\t33\\t50\\r\\n1\\t24\\t56\\t31\\t67\\r\\n1\\t23\\t51\\t31\\t69\\r\\n0\\t2\\t10\\t36\\t46\\r\\n1\\t20\\t52\\t30\\t65\\r\\n1\\t19\\t51\\t2'\n",
      "---\n",
      "Type\tPW\tPL\tSW\tSL\r\n",
      "0\t2\t14\t33\t50\r\n",
      "1\t24\t56\t31\t67\r\n",
      "1\t23\t51\t31\t69\r\n",
      "0\t2\t10\t36\t46\r\n",
      "1\t20\t52\t30\t65\r\n",
      "1\t19\t51\t2\n"
     ]
    }
   ],
   "source": [
    "import urllib.request as rq\n",
    "\n",
    "## what does the data look like\n",
    "conn = rq.urlopen(\"http://www.randomservices.org/random/data/Fisher.txt\")\n",
    "data = conn.read()\n",
    "print(data[:100])\n",
    "print('---')\n",
    "print(data.decode('ascii')[:100])"
   ]
  },
  {
   "cell_type": "code",
   "execution_count": 8,
   "metadata": {
    "slideshow": {
     "slide_type": "subslide"
    }
   },
   "outputs": [
    {
     "data": {
      "text/html": [
       "<div>\n",
       "<style scoped>\n",
       "    .dataframe tbody tr th:only-of-type {\n",
       "        vertical-align: middle;\n",
       "    }\n",
       "\n",
       "    .dataframe tbody tr th {\n",
       "        vertical-align: top;\n",
       "    }\n",
       "\n",
       "    .dataframe thead th {\n",
       "        text-align: right;\n",
       "    }\n",
       "</style>\n",
       "<table border=\"1\" class=\"dataframe\">\n",
       "  <thead>\n",
       "    <tr style=\"text-align: right;\">\n",
       "      <th></th>\n",
       "      <th>Type</th>\n",
       "      <th>PW</th>\n",
       "      <th>PL</th>\n",
       "      <th>SW</th>\n",
       "      <th>SL</th>\n",
       "    </tr>\n",
       "  </thead>\n",
       "  <tbody>\n",
       "    <tr>\n",
       "      <th>0</th>\n",
       "      <td>0</td>\n",
       "      <td>2</td>\n",
       "      <td>14</td>\n",
       "      <td>33</td>\n",
       "      <td>50</td>\n",
       "    </tr>\n",
       "    <tr>\n",
       "      <th>1</th>\n",
       "      <td>1</td>\n",
       "      <td>24</td>\n",
       "      <td>56</td>\n",
       "      <td>31</td>\n",
       "      <td>67</td>\n",
       "    </tr>\n",
       "    <tr>\n",
       "      <th>2</th>\n",
       "      <td>1</td>\n",
       "      <td>23</td>\n",
       "      <td>51</td>\n",
       "      <td>31</td>\n",
       "      <td>69</td>\n",
       "    </tr>\n",
       "    <tr>\n",
       "      <th>3</th>\n",
       "      <td>0</td>\n",
       "      <td>2</td>\n",
       "      <td>10</td>\n",
       "      <td>36</td>\n",
       "      <td>46</td>\n",
       "    </tr>\n",
       "    <tr>\n",
       "      <th>4</th>\n",
       "      <td>1</td>\n",
       "      <td>20</td>\n",
       "      <td>52</td>\n",
       "      <td>30</td>\n",
       "      <td>65</td>\n",
       "    </tr>\n",
       "  </tbody>\n",
       "</table>\n",
       "</div>"
      ],
      "text/plain": [
       "   Type  PW  PL  SW  SL\n",
       "0     0   2  14  33  50\n",
       "1     1  24  56  31  67\n",
       "2     1  23  51  31  69\n",
       "3     0   2  10  36  46\n",
       "4     1  20  52  30  65"
      ]
     },
     "execution_count": 8,
     "metadata": {},
     "output_type": "execute_result"
    }
   ],
   "source": [
    "import numpy as np\n",
    "import pandas as pd\n",
    "\n",
    "\n",
    "data = pd.read_csv(\n",
    "    \"http://www.randomservices.org/random/data/Fisher.txt\",\n",
    "    sep='\\t'\n",
    ")\n",
    "\n",
    "data[:5]"
   ]
  },
  {
   "cell_type": "markdown",
   "metadata": {
    "slideshow": {
     "slide_type": "subslide"
    }
   },
   "source": [
    "## Computing the means"
   ]
  },
  {
   "cell_type": "code",
   "execution_count": 20,
   "metadata": {},
   "outputs": [
    {
     "name": "stdout",
     "output_type": "stream",
     "text": [
      "Type     1.000000\n",
      "PW      11.926667\n",
      "PL      37.786667\n",
      "SW      30.553333\n",
      "SL      58.446667\n",
      "dtype: float64\n"
     ]
    },
    {
     "data": {
      "text/html": [
       "<div>\n",
       "<table border=\"1\" class=\"dataframe\">\n",
       "  <thead>\n",
       "    <tr style=\"text-align: right;\">\n",
       "      <th></th>\n",
       "      <th>PW</th>\n",
       "      <th>PL</th>\n",
       "      <th>SW</th>\n",
       "      <th>SL</th>\n",
       "    </tr>\n",
       "    <tr>\n",
       "      <th>Type</th>\n",
       "      <th></th>\n",
       "      <th></th>\n",
       "      <th></th>\n",
       "      <th></th>\n",
       "    </tr>\n",
       "  </thead>\n",
       "  <tbody>\n",
       "    <tr>\n",
       "      <th>0</th>\n",
       "      <td>2.46</td>\n",
       "      <td>14.62</td>\n",
       "      <td>34.28</td>\n",
       "      <td>50.10</td>\n",
       "    </tr>\n",
       "    <tr>\n",
       "      <th>1</th>\n",
       "      <td>20.06</td>\n",
       "      <td>55.52</td>\n",
       "      <td>29.74</td>\n",
       "      <td>65.88</td>\n",
       "    </tr>\n",
       "    <tr>\n",
       "      <th>2</th>\n",
       "      <td>13.26</td>\n",
       "      <td>43.22</td>\n",
       "      <td>27.64</td>\n",
       "      <td>59.36</td>\n",
       "    </tr>\n",
       "  </tbody>\n",
       "</table>\n",
       "</div>"
      ],
      "text/plain": [
       "         PW     PL     SW     SL\n",
       "Type                            \n",
       "0      2.46  14.62  34.28  50.10\n",
       "1     20.06  55.52  29.74  65.88\n",
       "2     13.26  43.22  27.64  59.36"
      ]
     },
     "execution_count": 20,
     "metadata": {},
     "output_type": "execute_result"
    }
   ],
   "source": [
    "# simple with pandas:\n",
    "print(data.mean())\n",
    "\n",
    "data.groupby('Type').mean()"
   ]
  },
  {
   "cell_type": "code",
   "execution_count": 9,
   "metadata": {
    "slideshow": {
     "slide_type": "subslide"
    }
   },
   "outputs": [
    {
     "data": {
      "text/html": [
       "<div>\n",
       "<style scoped>\n",
       "    .dataframe tbody tr th:only-of-type {\n",
       "        vertical-align: middle;\n",
       "    }\n",
       "\n",
       "    .dataframe tbody tr th {\n",
       "        vertical-align: top;\n",
       "    }\n",
       "\n",
       "    .dataframe thead th {\n",
       "        text-align: right;\n",
       "    }\n",
       "</style>\n",
       "<table border=\"1\" class=\"dataframe\">\n",
       "  <thead>\n",
       "    <tr style=\"text-align: right;\">\n",
       "      <th></th>\n",
       "      <th>Type</th>\n",
       "      <th>0</th>\n",
       "      <th>1</th>\n",
       "      <th>2</th>\n",
       "    </tr>\n",
       "  </thead>\n",
       "  <tbody>\n",
       "    <tr>\n",
       "      <th rowspan=\"3\" valign=\"top\">PW</th>\n",
       "      <th>min</th>\n",
       "      <td>1.00</td>\n",
       "      <td>13.00</td>\n",
       "      <td>10.00</td>\n",
       "    </tr>\n",
       "    <tr>\n",
       "      <th>mean</th>\n",
       "      <td>2.46</td>\n",
       "      <td>20.06</td>\n",
       "      <td>13.26</td>\n",
       "    </tr>\n",
       "    <tr>\n",
       "      <th>max</th>\n",
       "      <td>6.00</td>\n",
       "      <td>25.00</td>\n",
       "      <td>18.00</td>\n",
       "    </tr>\n",
       "    <tr>\n",
       "      <th rowspan=\"3\" valign=\"top\">PL</th>\n",
       "      <th>min</th>\n",
       "      <td>10.00</td>\n",
       "      <td>45.00</td>\n",
       "      <td>30.00</td>\n",
       "    </tr>\n",
       "    <tr>\n",
       "      <th>mean</th>\n",
       "      <td>14.62</td>\n",
       "      <td>55.52</td>\n",
       "      <td>43.22</td>\n",
       "    </tr>\n",
       "    <tr>\n",
       "      <th>max</th>\n",
       "      <td>19.00</td>\n",
       "      <td>69.00</td>\n",
       "      <td>56.00</td>\n",
       "    </tr>\n",
       "    <tr>\n",
       "      <th rowspan=\"3\" valign=\"top\">SW</th>\n",
       "      <th>min</th>\n",
       "      <td>23.00</td>\n",
       "      <td>22.00</td>\n",
       "      <td>20.00</td>\n",
       "    </tr>\n",
       "    <tr>\n",
       "      <th>mean</th>\n",
       "      <td>34.28</td>\n",
       "      <td>29.74</td>\n",
       "      <td>27.64</td>\n",
       "    </tr>\n",
       "    <tr>\n",
       "      <th>max</th>\n",
       "      <td>44.00</td>\n",
       "      <td>38.00</td>\n",
       "      <td>34.00</td>\n",
       "    </tr>\n",
       "    <tr>\n",
       "      <th rowspan=\"3\" valign=\"top\">SL</th>\n",
       "      <th>min</th>\n",
       "      <td>43.00</td>\n",
       "      <td>49.00</td>\n",
       "      <td>49.00</td>\n",
       "    </tr>\n",
       "    <tr>\n",
       "      <th>mean</th>\n",
       "      <td>50.10</td>\n",
       "      <td>65.88</td>\n",
       "      <td>59.36</td>\n",
       "    </tr>\n",
       "    <tr>\n",
       "      <th>max</th>\n",
       "      <td>58.00</td>\n",
       "      <td>79.00</td>\n",
       "      <td>70.00</td>\n",
       "    </tr>\n",
       "  </tbody>\n",
       "</table>\n",
       "</div>"
      ],
      "text/plain": [
       "Type         0      1      2\n",
       "PW min    1.00  13.00  10.00\n",
       "   mean   2.46  20.06  13.26\n",
       "   max    6.00  25.00  18.00\n",
       "PL min   10.00  45.00  30.00\n",
       "   mean  14.62  55.52  43.22\n",
       "   max   19.00  69.00  56.00\n",
       "SW min   23.00  22.00  20.00\n",
       "   mean  34.28  29.74  27.64\n",
       "   max   44.00  38.00  34.00\n",
       "SL min   43.00  49.00  49.00\n",
       "   mean  50.10  65.88  59.36\n",
       "   max   58.00  79.00  70.00"
      ]
     },
     "execution_count": 9,
     "metadata": {},
     "output_type": "execute_result"
    }
   ],
   "source": [
    "data.groupby('Type').describe().T.loc[sum([[(i, 'min'), (i, 'mean'), (i, 'max')] for i in ['PW','PL','SW','SL']], [])]"
   ]
  },
  {
   "cell_type": "markdown",
   "metadata": {
    "slideshow": {
     "slide_type": "subslide"
    }
   },
   "source": [
    "## Scatter plot of PL vs SL"
   ]
  },
  {
   "cell_type": "code",
   "execution_count": 22,
   "metadata": {},
   "outputs": [
    {
     "data": {
      "image/png": "[encoded data removed]",
      "text/plain": [
       "<matplotlib.figure.Figure at 0x7f20067265c0>"
      ]
     },
     "metadata": {},
     "output_type": "display_data"
    }
   ],
   "source": [
    "import matplotlib.pyplot as plt\n",
    "%matplotlib inline\n",
    "\n",
    "xs = data.PL\n",
    "ys = data.SL\n",
    "colors = ['rgb'[i] for i in data.Type]\n",
    "\n",
    "plt.scatter(xs, ys, c=colors)\n",
    "plt.xlabel('petal length'); plt.ylabel('sepal length');"
   ]
  },
  {
   "cell_type": "markdown",
   "metadata": {
    "slideshow": {
     "slide_type": "subslide"
    }
   },
   "source": [
    "## Subset & LMS"
   ]
  },
  {
   "cell_type": "code",
   "execution_count": 23,
   "metadata": {},
   "outputs": [
    {
     "data": {
      "image/png": "[encoded data removed]",
      "text/plain": [
       "<matplotlib.figure.Figure at 0x7f1fee26fd30>"
      ]
     },
     "metadata": {},
     "output_type": "display_data"
    }
   ],
   "source": [
    "\n",
    "# Only Setosa and Virginica\n",
    "subset = data[data.Type < 2]\n",
    "\n",
    "# Only Class and Sepal Length\n",
    "subset = subset[['Type', 'SL']]\n",
    "\n",
    "# transform class from [0, 1] to [-1, 1]\n",
    "subset.Type = subset.Type * 2 - 1\n",
    "\n",
    "plt.plot(subset.SL, subset.Type, 'o')\n",
    "plt.ylim(-1.1, 1.1);\n"
   ]
  },
  {
   "cell_type": "code",
   "execution_count": 24,
   "metadata": {
    "slideshow": {
     "slide_type": "subslide"
    }
   },
   "outputs": [
    {
     "data": {
      "text/plain": [
       "array([[ 1, 50, -1],\n",
       "       [ 1, 67,  1],\n",
       "       [ 1, 69,  1],\n",
       "       [ 1, 46, -1],\n",
       "       [ 1, 65,  1]])"
      ]
     },
     "execution_count": 24,
     "metadata": {},
     "output_type": "execute_result"
    }
   ],
   "source": [
    "examples = np.array([(1, x, y) \n",
    "                     for x, y in zip(subset.SL, subset.Type)])\n",
    "examples[:5, :]"
   ]
  },
  {
   "cell_type": "code",
   "execution_count": 25,
   "metadata": {
    "slideshow": {
     "slide_type": "fragment"
    }
   },
   "outputs": [
    {
     "name": "stdout",
     "output_type": "stream",
     "text": [
      "Iteration: 0 RSS: 126155.14\n",
      "Iteration: 200000 RSS: 83.21\n",
      "Iteration: 400000 RSS: 49.01\n",
      "Iteration: 600000 RSS: 61.96\n",
      "Iteration: 800000 RSS: 37.97\n",
      "Iteration: 1000000 RSS: 29.82\n"
     ]
    },
    {
     "data": {
      "text/plain": [
       "array([-4.7867314 ,  0.08269317])"
      ]
     },
     "execution_count": 25,
     "metadata": {},
     "output_type": "execute_result"
    }
   ],
   "source": [
    "weights = lms(examples, 0.0001, 1000001, 200000)\n",
    "\n",
    "#examples\n",
    "weights"
   ]
  },
  {
   "cell_type": "code",
   "execution_count": 26,
   "metadata": {
    "slideshow": {
     "slide_type": "subslide"
    }
   },
   "outputs": [
    {
     "data": {
      "image/png": "[encoded data removed]",
      "text/plain": [
       "<matplotlib.figure.Figure at 0x7f1fdb72d198>"
      ]
     },
     "metadata": {},
     "output_type": "display_data"
    }
   ],
   "source": [
    "def plot_examples(examples, weights):\n",
    "    subset = examples[:,1:3]\n",
    "    plt.scatter(subset.T[0], subset.T[1])\n",
    "    \n",
    "    line = lambda x: weights.dot((1, x))\n",
    "\n",
    "    x_min = subset.T[0].min()\n",
    "    x_max = subset.T[0].max()\n",
    "    plt.plot([x_min, x_max], [line(x_min), line(x_max)], 'r')\n",
    "    plt.xlabel(\"x\"); plt.ylabel(\"y\")\n",
    "plot_examples(examples, weights)"
   ]
  },
  {
   "cell_type": "markdown",
   "metadata": {
    "slideshow": {
     "slide_type": "slide"
    }
   },
   "source": [
    "# Regression for Classification Problems\n",
    "\n",
    "* How do we transform our regression model into a **classifier**?"
   ]
  },
  {
   "cell_type": "markdown",
   "metadata": {
    "slideshow": {
     "slide_type": "fragment"
    }
   },
   "source": [
    "**Recap:** Prediction with the regression model.\n",
    "\n",
    "$$\n",
    "\\hat{y} = h_w(x) = w^Tx\n",
    "$$"
   ]
  },
  {
   "cell_type": "code",
   "execution_count": 27,
   "metadata": {
    "slideshow": {
     "slide_type": "subslide"
    }
   },
   "outputs": [
    {
     "data": {
      "image/png": "[encoded data removed]",
      "text/plain": [
       "<matplotlib.figure.Figure at 0x7f1fdef90a20>"
      ]
     },
     "metadata": {},
     "output_type": "display_data"
    }
   ],
   "source": [
    "plot_examples(examples, weights)"
   ]
  },
  {
   "cell_type": "markdown",
   "metadata": {
    "slideshow": {
     "slide_type": "subslide"
    }
   },
   "source": [
    "## Classification\n",
    "\n",
    "* What if we want $\\hat{y} \\in \\{-1, 1\\}$?"
   ]
  },
  {
   "cell_type": "markdown",
   "metadata": {
    "slideshow": {
     "slide_type": "fragment"
    }
   },
   "source": [
    "* Use the Signum function: $\\hat{y} = \\mathrm{sgn}(w^Tx)$\n",
    "\n",
    "$$\n",
    "\\mathrm{sgn}(t) = \\left\\{\\begin{aligned}\n",
    "&1 &&: t \\gt 0\\\\\n",
    "&0 &&: t = 0\\\\\n",
    "&-1 &&: t \\lt 0\n",
    "\\end{aligned}\n",
    "\\right.$$"
   ]
  },
  {
   "cell_type": "code",
   "execution_count": 28,
   "metadata": {
    "scrolled": true,
    "slideshow": {
     "slide_type": "subslide"
    }
   },
   "outputs": [
    {
     "data": {
      "image/png": "[encoded data removed]",
      "text/plain": [
       "<matplotlib.figure.Figure at 0x7f1fdb6728d0>"
      ]
     },
     "metadata": {},
     "output_type": "display_data"
    }
   ],
   "source": [
    "xs = np.linspace(-1, 1, 100); plt.plot(xs, np.sign(xs), label='sgn(t)'); plt.xlabel('t'); plt.ylim(-1.5, 1.5); plt.legend();"
   ]
  },
  {
   "cell_type": "markdown",
   "metadata": {
    "slideshow": {
     "slide_type": "fragment"
    }
   },
   "source": [
    "* What is the **decision boundary** of our classifier?"
   ]
  },
  {
   "cell_type": "markdown",
   "metadata": {
    "slideshow": {
     "slide_type": "subslide"
    }
   },
   "source": [
    "## Decision Boundary\n",
    "\n",
    "* In general: a linear decision boundary is a hyper-plane in feature space\n",
    "* For our 1-feature problem: the decision boundary is a **scalar**"
   ]
  },
  {
   "cell_type": "code",
   "execution_count": 29,
   "metadata": {
    "collapsed": true,
    "slideshow": {
     "slide_type": "skip"
    }
   },
   "outputs": [],
   "source": [
    "# plt.axhline(0, color='black', linestyle='--')\n",
    "\n",
    "# wTx = y_mean; w0 + w1x = y_mean; x = (y_mean - w0) / w1\n",
    "def draw_boundary(examples, weights):\n",
    "    y_mean = (max(examples[:,-1]) + min(examples[:,-1]))/2\n",
    "    zero_intersect = (y_mean-weights[0]) / weights[1]\n",
    "    plt.axvline(zero_intersect, color='k', ls='--')\n",
    "\n",
    "def misclassified(examples, weights):\n",
    "    x = examples[:,:-1]    ### First p columns: shape = (n, p)\n",
    "    y = examples.T[-1]     ### Last column: shape = (n,)\n",
    "    y_pred = np.sign(weights.dot(x.T))\n",
    "    misclassified = y != y_pred\n",
    "    return misclassified\n",
    "\n",
    "\n",
    "def draw_misclassified(examples, weights):\n",
    "    mis_idx = misclassified(examples, weights)\n",
    "    xs = examples[mis_idx][:,1:]\n",
    "    plt.scatter(xs.T[0], xs.T[1], s=50, color='red')\n",
    "    plt.title(\"%d misclassified\" % len(xs))    \n"
   ]
  },
  {
   "cell_type": "markdown",
   "metadata": {
    "slideshow": {
     "slide_type": "subslide"
    }
   },
   "source": [
    "* It's the value $x$ where the regression line $w^Tx$ intersects the x-axis"
   ]
  },
  {
   "cell_type": "code",
   "execution_count": 30,
   "metadata": {
    "slideshow": {
     "slide_type": "fragment"
    }
   },
   "outputs": [
    {
     "data": {
      "image/png": "[encoded data removed]",
      "text/plain": [
       "<matplotlib.figure.Figure at 0x7f1fdb580dd8>"
      ]
     },
     "metadata": {},
     "output_type": "display_data"
    }
   ],
   "source": [
    "plot_examples(examples, weights); draw_boundary(examples, weights);"
   ]
  },
  {
   "cell_type": "code",
   "execution_count": 31,
   "metadata": {},
   "outputs": [
    {
     "data": {
      "text/plain": [
       "(-2, 2)"
      ]
     },
     "execution_count": 31,
     "metadata": {},
     "output_type": "execute_result"
    },
    {
     "data": {
      "image/png": "[encoded data removed]",
      "text/plain": [
       "<matplotlib.figure.Figure at 0x7f1fdb5df7f0>"
      ]
     },
     "metadata": {},
     "output_type": "display_data"
    }
   ],
   "source": [
    "wtmp = weights * 0.1\n",
    "#plot_examples(examples, weights);\n",
    "plot_examples(examples, wtmp); draw_boundary(examples, wtmp);\n",
    "plt.gca().set_ylim((-2,2))"
   ]
  },
  {
   "cell_type": "markdown",
   "metadata": {
    "slideshow": {
     "slide_type": "subslide"
    }
   },
   "source": [
    "## Misclassification Error\n",
    "\n",
    "* Examples on the wrong side of the decsion boundary are **misclassified**"
   ]
  },
  {
   "cell_type": "code",
   "execution_count": 32,
   "metadata": {},
   "outputs": [
    {
     "data": {
      "image/png": "[encoded data removed]",
      "text/plain": [
       "<matplotlib.figure.Figure at 0x7f1fdb522978>"
      ]
     },
     "metadata": {},
     "output_type": "display_data"
    }
   ],
   "source": [
    "plot_examples(examples, weights); draw_boundary(examples, weights); draw_misclassified(examples, weights);"
   ]
  },
  {
   "cell_type": "code",
   "execution_count": 33,
   "metadata": {
    "slideshow": {
     "slide_type": "skip"
    }
   },
   "outputs": [
    {
     "name": "stdout",
     "output_type": "stream",
     "text": [
      "[-4.7867314   0.08269317] [[-5.18813492  0.08946603]]\n",
      "29.4113044691\n",
      "29.4113044691\n"
     ]
    }
   ],
   "source": [
    "x = examples[:,:-1]\n",
    "y = examples[:,-1:]\n",
    "w1 = np.linalg.pinv(x.T.dot(x)).dot(x.T).dot(y)\n",
    "\n",
    "print(weights.T, w1.T)\n",
    "print(rss(examples, w1.T))\n",
    "print(rss(examples, optimal_weights(examples).T))"
   ]
  },
  {
   "cell_type": "markdown",
   "metadata": {
    "slideshow": {
     "slide_type": "subslide"
    }
   },
   "source": [
    "# The problem with outliers"
   ]
  },
  {
   "cell_type": "markdown",
   "metadata": {
    "slideshow": {
     "slide_type": "notes"
    }
   },
   "source": [
    "Below, shift the x of the new example further to the right, and observe the change in the classification boundary and the error."
   ]
  },
  {
   "cell_type": "code",
   "execution_count": 34,
   "metadata": {
    "collapsed": true,
    "slideshow": {
     "slide_type": "skip"
    }
   },
   "outputs": [],
   "source": [
    "def plot_with_new_example(x):\n",
    "    examples2 = np.vstack([examples, [1, x, 1]])\n",
    "    weights2 = optimal_weights(examples2)\n",
    "\n",
    "    plot_examples(examples2, weights2)\n",
    "    plt.scatter([x], [1], s=150, c='g', label=\"New!\")\n",
    "#     plt.legend(loc='lower right')\n",
    "    plt.ylim((-1.5,1.5))\n",
    "    plt.xlim(40, 105)\n",
    "\n",
    "    draw_boundary(examples2, weights2)\n",
    "    draw_misclassified(examples2, weights2)"
   ]
  },
  {
   "cell_type": "code",
   "execution_count": 37,
   "metadata": {},
   "outputs": [
    {
     "data": {
      "image/png": "[encoded data removed]",
      "text/plain": [
       "<matplotlib.figure.Figure at 0x7f1fdb361860>"
      ]
     },
     "metadata": {},
     "output_type": "display_data"
    }
   ],
   "source": [
    "plot_with_new_example(x=100) ### Add a new positive example"
   ]
  },
  {
   "cell_type": "markdown",
   "metadata": {
    "slideshow": {
     "slide_type": "subslide"
    }
   },
   "source": [
    "## There is much more to it than that, of course\n",
    "\n",
    "We haven't discussed:\n",
    "\n",
    "* Generalization; training error vs. testing error\n",
    "* Different ways of measuring performance\n",
    "* Better models for classification"
   ]
  },
  {
   "cell_type": "markdown",
   "metadata": {
    "slideshow": {
     "slide_type": "slide"
    }
   },
   "source": [
    "# Exercises ML: II\n",
    "\n",
    "* New exercise sheet is [online](https://www.uni-weimar.de/en/media/chairs/computer-science-department/webis/teaching/ws-201819/machine-learning/)"
   ]
  },
  {
   "cell_type": "markdown",
   "metadata": {
    "slideshow": {
     "slide_type": "slide"
    }
   },
   "source": [
    "# End of Lab Class ML: I,II"
   ]
  },
  {
   "cell_type": "markdown",
   "metadata": {
    "slideshow": {
     "slide_type": "fragment"
    }
   },
   "source": [
    "* Questions?"
   ]
  }
 ],
 "metadata": {
  "celltoolbar": "Slideshow",
  "kernelspec": {
   "display_name": "Python 3",
   "language": "python",
   "name": "python3"
  },
  "language_info": {
   "codemirror_mode": {
    "name": "ipython",
    "version": 3
   },
   "file_extension": ".py",
   "mimetype": "text/x-python",
   "name": "python",
   "nbconvert_exporter": "python",
   "pygments_lexer": "ipython3",
   "version": "3.7.1"
  }
 },
 "nbformat": 4,
 "nbformat_minor": 1
}
